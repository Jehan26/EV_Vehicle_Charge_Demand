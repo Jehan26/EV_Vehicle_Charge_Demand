# Week 2 - EDA & Preprocessing Notebook

import pandas as pd
from scripts.data_cleaning import load_data, clean_data
from scripts.visualization import plot_category_distribution, plot_time_series

# Load dataset
df = load_data('../data/raw_dataset.csv')

# Clean data
df = clean_data(df)

# Show basic info
print(df.info())
print(df.describe())

# Visualization
plot_category_distribution(df, 'badge_type')  # example column
plot_time_series(df, 'date', 'badge_count')   # adjust as per actual columns
